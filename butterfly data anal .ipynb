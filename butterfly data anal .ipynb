{
 "cells": [
  {
   "cell_type": "code",
   "execution_count": 170,
   "id": "58ef4621",
   "metadata": {},
   "outputs": [
    {
     "data": {
      "text/html": [
       "<div>\n",
       "<style scoped>\n",
       "    .dataframe tbody tr th:only-of-type {\n",
       "        vertical-align: middle;\n",
       "    }\n",
       "\n",
       "    .dataframe tbody tr th {\n",
       "        vertical-align: top;\n",
       "    }\n",
       "\n",
       "    .dataframe thead th {\n",
       "        text-align: right;\n",
       "    }\n",
       "</style>\n",
       "<table border=\"1\" class=\"dataframe\">\n",
       "  <thead>\n",
       "    <tr style=\"text-align: right;\">\n",
       "      <th></th>\n",
       "      <th>q</th>\n",
       "      <th>clump-patch</th>\n",
       "      <th>clump-radius</th>\n",
       "    </tr>\n",
       "  </thead>\n",
       "  <tbody>\n",
       "    <tr>\n",
       "      <th>0</th>\n",
       "      <td>0.0</td>\n",
       "      <td>496</td>\n",
       "      <td>2.732</td>\n",
       "    </tr>\n",
       "    <tr>\n",
       "      <th>1</th>\n",
       "      <td>0.0</td>\n",
       "      <td>494</td>\n",
       "      <td>2.804</td>\n",
       "    </tr>\n",
       "    <tr>\n",
       "      <th>2</th>\n",
       "      <td>0.0</td>\n",
       "      <td>487</td>\n",
       "      <td>2.760</td>\n",
       "    </tr>\n",
       "    <tr>\n",
       "      <th>3</th>\n",
       "      <td>0.0</td>\n",
       "      <td>496</td>\n",
       "      <td>2.732</td>\n",
       "    </tr>\n",
       "    <tr>\n",
       "      <th>4</th>\n",
       "      <td>0.0</td>\n",
       "      <td>495</td>\n",
       "      <td>2.852</td>\n",
       "    </tr>\n",
       "  </tbody>\n",
       "</table>\n",
       "</div>"
      ],
      "text/plain": [
       "    q   clump-patch  clump-radius\n",
       "0  0.0          496         2.732\n",
       "1  0.0          494         2.804\n",
       "2  0.0          487         2.760\n",
       "3  0.0          496         2.732\n",
       "4  0.0          495         2.852"
      ]
     },
     "execution_count": 170,
     "metadata": {},
     "output_type": "execute_result"
    }
   ],
   "source": [
    "import pandas as pd \n",
    "df = pd.read_csv('/Users/isaiahhollars/Desktop/butterfly data anal/clumping_data.csv')\n",
    "df.head()\n"
   ]
  },
  {
   "cell_type": "code",
   "execution_count": 171,
   "id": "5cdc37fa",
   "metadata": {},
   "outputs": [
    {
     "data": {
      "text/html": [
       "<div>\n",
       "<style scoped>\n",
       "    .dataframe tbody tr th:only-of-type {\n",
       "        vertical-align: middle;\n",
       "    }\n",
       "\n",
       "    .dataframe tbody tr th {\n",
       "        vertical-align: top;\n",
       "    }\n",
       "\n",
       "    .dataframe thead th {\n",
       "        text-align: right;\n",
       "    }\n",
       "</style>\n",
       "<table border=\"1\" class=\"dataframe\">\n",
       "  <thead>\n",
       "    <tr style=\"text-align: right;\">\n",
       "      <th></th>\n",
       "      <th>q</th>\n",
       "      <th>clump-patch</th>\n",
       "      <th>clump-radius</th>\n",
       "      <th>clump-patch-norm</th>\n",
       "      <th>clump-rad-norm</th>\n",
       "    </tr>\n",
       "  </thead>\n",
       "  <tbody>\n",
       "    <tr>\n",
       "      <th>0</th>\n",
       "      <td>0.0</td>\n",
       "      <td>496</td>\n",
       "      <td>2.732</td>\n",
       "      <td>0.991979</td>\n",
       "      <td>0.003253</td>\n",
       "    </tr>\n",
       "  </tbody>\n",
       "</table>\n",
       "</div>"
      ],
      "text/plain": [
       "    q   clump-patch  clump-radius  clump-patch-norm  clump-rad-norm\n",
       "0  0.0          496         2.732          0.991979        0.003253"
      ]
     },
     "execution_count": 171,
     "metadata": {},
     "output_type": "execute_result"
    }
   ],
   "source": [
    "#min max normalize \n",
    "df['clump-patch-norm'] =  (df['clump-patch'] - df['clump-patch'].min()) / (df['clump-patch'].max() - df['clump-patch'].min())\n",
    "df['clump-rad-norm'] =  (df['clump-radius'] - df['clump-radius'].min()) / (df['clump-radius'].max() - df['clump-radius'].min())\n",
    "df.head(1)"
   ]
  },
  {
   "cell_type": "code",
   "execution_count": 172,
   "id": "1edcc4ba",
   "metadata": {},
   "outputs": [
    {
     "data": {
      "text/html": [
       "<div>\n",
       "<style scoped>\n",
       "    .dataframe tbody tr th:only-of-type {\n",
       "        vertical-align: middle;\n",
       "    }\n",
       "\n",
       "    .dataframe tbody tr th {\n",
       "        vertical-align: top;\n",
       "    }\n",
       "\n",
       "    .dataframe thead th {\n",
       "        text-align: right;\n",
       "    }\n",
       "</style>\n",
       "<table border=\"1\" class=\"dataframe\">\n",
       "  <thead>\n",
       "    <tr style=\"text-align: right;\">\n",
       "      <th></th>\n",
       "      <th>q</th>\n",
       "      <th>clump-patch</th>\n",
       "      <th>clump-radius</th>\n",
       "      <th>clump-patch-norm</th>\n",
       "      <th>clump-rad-norm</th>\n",
       "      <th>clump-patch-norm-invert</th>\n",
       "    </tr>\n",
       "  </thead>\n",
       "  <tbody>\n",
       "    <tr>\n",
       "      <th>0</th>\n",
       "      <td>0.0</td>\n",
       "      <td>496</td>\n",
       "      <td>2.732</td>\n",
       "      <td>0.991979</td>\n",
       "      <td>0.003253</td>\n",
       "      <td>0.008021</td>\n",
       "    </tr>\n",
       "    <tr>\n",
       "      <th>1</th>\n",
       "      <td>0.0</td>\n",
       "      <td>494</td>\n",
       "      <td>2.804</td>\n",
       "      <td>0.986631</td>\n",
       "      <td>0.005595</td>\n",
       "      <td>0.013369</td>\n",
       "    </tr>\n",
       "    <tr>\n",
       "      <th>2</th>\n",
       "      <td>0.0</td>\n",
       "      <td>487</td>\n",
       "      <td>2.760</td>\n",
       "      <td>0.967914</td>\n",
       "      <td>0.004163</td>\n",
       "      <td>0.032086</td>\n",
       "    </tr>\n",
       "    <tr>\n",
       "      <th>3</th>\n",
       "      <td>0.0</td>\n",
       "      <td>496</td>\n",
       "      <td>2.732</td>\n",
       "      <td>0.991979</td>\n",
       "      <td>0.003253</td>\n",
       "      <td>0.008021</td>\n",
       "    </tr>\n",
       "    <tr>\n",
       "      <th>4</th>\n",
       "      <td>0.0</td>\n",
       "      <td>495</td>\n",
       "      <td>2.852</td>\n",
       "      <td>0.989305</td>\n",
       "      <td>0.007156</td>\n",
       "      <td>0.010695</td>\n",
       "    </tr>\n",
       "  </tbody>\n",
       "</table>\n",
       "</div>"
      ],
      "text/plain": [
       "    q   clump-patch  clump-radius  clump-patch-norm  clump-rad-norm  \\\n",
       "0  0.0          496         2.732          0.991979        0.003253   \n",
       "1  0.0          494         2.804          0.986631        0.005595   \n",
       "2  0.0          487         2.760          0.967914        0.004163   \n",
       "3  0.0          496         2.732          0.991979        0.003253   \n",
       "4  0.0          495         2.852          0.989305        0.007156   \n",
       "\n",
       "   clump-patch-norm-invert  \n",
       "0                 0.008021  \n",
       "1                 0.013369  \n",
       "2                 0.032086  \n",
       "3                 0.008021  \n",
       "4                 0.010695  "
      ]
     },
     "execution_count": 172,
     "metadata": {},
     "output_type": "execute_result"
    }
   ],
   "source": [
    "# invert the patch norm score becuase a lower value is better \n",
    "df['clump-patch-norm-invert'] =  (1-df['clump-patch-norm'])\n",
    "df.head()"
   ]
  },
  {
   "cell_type": "code",
   "execution_count": 173,
   "id": "1bf4e5af",
   "metadata": {},
   "outputs": [
    {
     "data": {
      "text/html": [
       "<div>\n",
       "<style scoped>\n",
       "    .dataframe tbody tr th:only-of-type {\n",
       "        vertical-align: middle;\n",
       "    }\n",
       "\n",
       "    .dataframe tbody tr th {\n",
       "        vertical-align: top;\n",
       "    }\n",
       "\n",
       "    .dataframe thead th {\n",
       "        text-align: right;\n",
       "    }\n",
       "</style>\n",
       "<table border=\"1\" class=\"dataframe\">\n",
       "  <thead>\n",
       "    <tr style=\"text-align: right;\">\n",
       "      <th></th>\n",
       "      <th>q</th>\n",
       "      <th>clump-patch</th>\n",
       "      <th>clump-radius</th>\n",
       "      <th>clump-patch-norm</th>\n",
       "      <th>clump-rad-norm</th>\n",
       "      <th>clump-patch-norm-invert</th>\n",
       "      <th>score_minmax</th>\n",
       "    </tr>\n",
       "  </thead>\n",
       "  <tbody>\n",
       "    <tr>\n",
       "      <th>504</th>\n",
       "      <td>1.0</td>\n",
       "      <td>201</td>\n",
       "      <td>6.5</td>\n",
       "      <td>0.203209</td>\n",
       "      <td>0.125813</td>\n",
       "      <td>0.796791</td>\n",
       "      <td>0.461302</td>\n",
       "    </tr>\n",
       "  </tbody>\n",
       "</table>\n",
       "</div>"
      ],
      "text/plain": [
       "      q   clump-patch  clump-radius  clump-patch-norm  clump-rad-norm  \\\n",
       "504  1.0          201           6.5          0.203209        0.125813   \n",
       "\n",
       "     clump-patch-norm-invert  score_minmax  \n",
       "504                 0.796791      0.461302  "
      ]
     },
     "execution_count": 173,
     "metadata": {},
     "output_type": "execute_result"
    }
   ],
   "source": [
    "# create new metric that averages our normed features\n",
    "df['score_minmax'] = (df['clump-rad-norm']+df['clump-patch-norm-invert'])/2\n",
    "df.tail(1)"
   ]
  },
  {
   "cell_type": "code",
   "execution_count": 174,
   "id": "315c3fa7",
   "metadata": {},
   "outputs": [],
   "source": [
    "import numpy as np\n",
    "import matplotlib.pyplot as plt"
   ]
  },
  {
   "cell_type": "code",
   "execution_count": 175,
   "id": "9b487bb3",
   "metadata": {},
   "outputs": [],
   "source": [
    "df = df.rename({'q ': 'q'}, axis=1)  # new method"
   ]
  },
  {
   "cell_type": "code",
   "execution_count": 176,
   "id": "73567f3e",
   "metadata": {},
   "outputs": [
    {
     "data": {
      "image/png": "[encoded data removed]",
      "text/plain": [
       "<Figure size 432x288 with 1 Axes>"
      ]
     },
     "metadata": {
      "needs_background": "light"
     },
     "output_type": "display_data"
    }
   ],
   "source": [
    "xs = df['q']\n",
    "ys = df['score_minmax']\n",
    "plt.scatter(xs, ys)\n",
    "plt.title('score_minmax elevation data 1')\n",
    "plt.xlabel('q')\n",
    "plt.ylabel('score_minmax')\n",
    "plt.show()"
   ]
  },
  {
   "cell_type": "code",
   "execution_count": 177,
   "id": "a6706e73",
   "metadata": {},
   "outputs": [
    {
     "name": "stdout",
     "output_type": "stream",
     "text": [
      "        5         4         3      2\n",
      "-24.84 x + 66.15 x - 61.34 x + 21 x - 0.447 x - 8.475e-05\n"
     ]
    }
   ],
   "source": [
    "#fit 5th degree polynom\n",
    "xs = df['q']\n",
    "ys = df['score_minmax']\n",
    "poly_fit = np.poly1d(np.polyfit(xs,ys, 5))\n",
    "print(poly_fit)\n"
   ]
  },
  {
   "cell_type": "code",
   "execution_count": 178,
   "id": "204c3942",
   "metadata": {},
   "outputs": [
    {
     "data": {
      "image/png": "[encoded data removed]",
      "text/plain": [
       "<Figure size 432x288 with 1 Axes>"
      ]
     },
     "metadata": {
      "needs_background": "light"
     },
     "output_type": "display_data"
    }
   ],
   "source": [
    "# z-score normalize:\n",
    "df['z-patch'] = (df['clump-patch'] - df['clump-patch'].mean()) / df['clump-patch'].std()\n",
    "df['z-patch-invert'] = -1*df['z-patch']\n",
    "df['z-rad'] = (df['clump-radius'] - df['clump-radius'].mean()) / df['clump-radius'].std()\n",
    "df['score_z'] = (df['z-rad'] + df['z-patch-invert'])/2\n",
    "\n",
    "xs = df['q']\n",
    "ys = df['score_z']\n",
    "plt.scatter(xs, ys)\n",
    "plt.title('score_z elevation data 1')\n",
    "plt.xlabel('q')\n",
    "plt.ylabel('score_z')\n",
    "plt.show()"
   ]
  },
  {
   "cell_type": "code",
   "execution_count": 179,
   "id": "a53e893b",
   "metadata": {},
   "outputs": [
    {
     "name": "stdout",
     "output_type": "stream",
     "text": [
      "        5         4         3         2\n",
      "-89.43 x + 238.1 x - 220.5 x + 75.06 x - 1.525 x - 1.844\n"
     ]
    }
   ],
   "source": [
    "#fit 5th degree polynom\n",
    "xs = df['q']\n",
    "ys = df['score_z']\n",
    "poly_fit = np.poly1d(np.polyfit(xs,ys, 5))\n",
    "print(poly_fit)"
   ]
  },
  {
   "cell_type": "markdown",
   "id": "e264823d",
   "metadata": {},
   "source": [
    "### now we will do the same analysis for the other elevation dataset "
   ]
  },
  {
   "cell_type": "code",
   "execution_count": 180,
   "id": "1cd3713e",
   "metadata": {},
   "outputs": [
    {
     "data": {
      "text/html": [
       "<div>\n",
       "<style scoped>\n",
       "    .dataframe tbody tr th:only-of-type {\n",
       "        vertical-align: middle;\n",
       "    }\n",
       "\n",
       "    .dataframe tbody tr th {\n",
       "        vertical-align: top;\n",
       "    }\n",
       "\n",
       "    .dataframe thead th {\n",
       "        text-align: right;\n",
       "    }\n",
       "</style>\n",
       "<table border=\"1\" class=\"dataframe\">\n",
       "  <thead>\n",
       "    <tr style=\"text-align: right;\">\n",
       "      <th></th>\n",
       "      <th>q2</th>\n",
       "      <th>clump-patch2</th>\n",
       "      <th>clump-radius2</th>\n",
       "    </tr>\n",
       "  </thead>\n",
       "  <tbody>\n",
       "    <tr>\n",
       "      <th>0</th>\n",
       "      <td>0.0</td>\n",
       "      <td>498</td>\n",
       "      <td>2.096</td>\n",
       "    </tr>\n",
       "  </tbody>\n",
       "</table>\n",
       "</div>"
      ],
      "text/plain": [
       "    q2  clump-patch2  clump-radius2\n",
       "0  0.0           498          2.096"
      ]
     },
     "execution_count": 180,
     "metadata": {},
     "output_type": "execute_result"
    }
   ],
   "source": [
    "df2 = pd.read_csv('/Users/isaiahhollars/Desktop/butterfly data anal/rectangle.csv')\n",
    "df2 = df2.rename({'q': 'q2', 'clumping-patch':'clump-patch2','clumping-radius': 'clump-radius2'}, axis=1)  # new method\n",
    "df2.head(1)"
   ]
  },
  {
   "cell_type": "code",
   "execution_count": 181,
   "id": "318cb764",
   "metadata": {},
   "outputs": [],
   "source": [
    "#minmax\n",
    "df2['clump-patch-norm2'] =  (df2['clump-patch2'] - df2['clump-patch2'].min()) / (df2['clump-patch2'].max() - df2['clump-patch2'].min())\n",
    "df2['clump-rad-norm2'] =  (df2['clump-radius2'] - df2['clump-radius2'].min()) / (df2['clump-radius2'].max() - df2['clump-radius2'].min())\n",
    "# invert the patch norm score becuase a lower value is better \n",
    "df2['clump-patch-norm-invert2'] =  (1-df2['clump-patch-norm2'])\n",
    "df2['score_minmax2'] = (df2['clump-rad-norm2']+df2['clump-patch-norm-invert2'])/2\n"
   ]
  },
  {
   "cell_type": "code",
   "execution_count": 182,
   "id": "ecdf4fc9",
   "metadata": {},
   "outputs": [
    {
     "data": {
      "image/png": "[encoded data removed]",
      "text/plain": [
       "<Figure size 432x288 with 1 Axes>"
      ]
     },
     "metadata": {
      "needs_background": "light"
     },
     "output_type": "display_data"
    }
   ],
   "source": [
    "xs = df2['q2']\n",
    "ys = df2['score_minmax2']\n",
    "plt.scatter(xs, ys)\n",
    "plt.title('score_minmax elevation data 2')\n",
    "plt.xlabel('q')\n",
    "plt.ylabel('score_minmax')\n",
    "plt.show()"
   ]
  },
  {
   "cell_type": "code",
   "execution_count": 183,
   "id": "532520f4",
   "metadata": {},
   "outputs": [
    {
     "name": "stdout",
     "output_type": "stream",
     "text": [
      "       5         4        3        2\n",
      "-23.1 x + 58.54 x - 49.7 x + 13.9 x + 1.259 x - 0.044\n"
     ]
    }
   ],
   "source": [
    "#fit 5th degree polynom\n",
    "xs = df2['q2']\n",
    "ys = df2['score_minmax2']\n",
    "poly_fit = np.poly1d(np.polyfit(xs,ys, 5))\n",
    "print(poly_fit)\n"
   ]
  },
  {
   "cell_type": "code",
   "execution_count": 184,
   "id": "56b489fd",
   "metadata": {},
   "outputs": [
    {
     "data": {
      "image/png": "[encoded data removed]",
      "text/plain": [
       "<Figure size 432x288 with 1 Axes>"
      ]
     },
     "metadata": {
      "needs_background": "light"
     },
     "output_type": "display_data"
    }
   ],
   "source": [
    "# z-score normalize:\n",
    "df2['z-patch2'] = (df2['clump-patch2'] - df2['clump-patch2'].mean()) / df2['clump-patch2'].std()\n",
    "df2['z-patch-invert2'] = -1*df2['z-patch2']\n",
    "df2['z-rad2'] = (df2['clump-radius2'] - df2['clump-radius2'].mean()) / df2['clump-radius2'].std()\n",
    "df2['score_z2'] = (df2['z-rad2'] + df2['z-patch-invert2'])/2\n",
    "\n",
    "xs = df2['q2']\n",
    "ys = df2['score_z2']\n",
    "plt.scatter(xs, ys)\n",
    "plt.title('score_z elevation data 2')\n",
    "plt.xlabel('q')\n",
    "plt.ylabel('score_z')\n",
    "plt.show()"
   ]
  },
  {
   "cell_type": "code",
   "execution_count": 185,
   "id": "5aaf9f81",
   "metadata": {},
   "outputs": [
    {
     "name": "stdout",
     "output_type": "stream",
     "text": [
      "       5         4        3        2\n",
      "-23.1 x + 58.54 x - 49.7 x + 13.9 x + 1.259 x - 0.044\n"
     ]
    }
   ],
   "source": [
    "#fit 5th degree polynom\n",
    "xs = df2['q2']\n",
    "ys = df2['score_minmax2']\n",
    "poly_fit = np.poly1d(np.polyfit(xs,ys, 5))\n",
    "print(poly_fit)\n"
   ]
  },
  {
   "cell_type": "markdown",
   "id": "3474ca58",
   "metadata": {},
   "source": [
    "### problem town us... \n",
    "in the new world, it seems that butterflies do best when q=1 but this seems really lame... "
   ]
  },
  {
   "cell_type": "markdown",
   "id": "05916d81",
   "metadata": {},
   "source": [
    "## Take both datasets into account!"
   ]
  },
  {
   "cell_type": "code",
   "execution_count": 188,
   "id": "a65da46b",
   "metadata": {},
   "outputs": [
    {
     "data": {
      "text/plain": [
       "Index(['q', 'clump-patch', 'clump-radius', 'clump-patch-norm',\n",
       "       'clump-rad-norm', 'clump-patch-norm-invert', 'score_minmax', 'z-patch',\n",
       "       'z-patch-invert', 'z-rad', 'score_z', 'clump-patch2', 'clump-radius2',\n",
       "       'clump-patch-norm2', 'clump-rad-norm2', 'clump-patch-norm-invert2',\n",
       "       'score_minmax2', 'z-patch2', 'z-patch-invert2', 'z-rad2', 'score_z2'],\n",
       "      dtype='object')"
      ]
     },
     "execution_count": 188,
     "metadata": {},
     "output_type": "execute_result"
    }
   ],
   "source": [
    "bigdf = pd.concat([df,df2], axis=1)\n",
    "bigdf.drop(['q2'], axis=1, inplace=True)\n",
    "bigdf.columns"
   ]
  },
  {
   "cell_type": "code",
   "execution_count": 190,
   "id": "9c20dc25",
   "metadata": {},
   "outputs": [
    {
     "data": {
      "image/png": "[encoded data removed]",
      "text/plain": [
       "<Figure size 432x288 with 1 Axes>"
      ]
     },
     "metadata": {
      "needs_background": "light"
     },
     "output_type": "display_data"
    }
   ],
   "source": [
    "bigdf['big_score_z'] = (bigdf['score_z'] + bigdf['score_z2'])/2\n",
    "bigdf['big_score_minmax'] = (bigdf['score_minmax'] + bigdf['score_minmax2'])/2\n",
    "\n",
    "\n",
    "xs = bigdf['q']\n",
    "ys = bigdf['big_score_z']\n",
    "plt.scatter(xs, ys)\n",
    "plt.title('score_z both datasets')\n",
    "plt.xlabel('q')\n",
    "plt.ylabel('score_z')\n",
    "plt.show()"
   ]
  },
  {
   "cell_type": "code",
   "execution_count": 191,
   "id": "2f082fdd",
   "metadata": {},
   "outputs": [
    {
     "data": {
      "image/png": "[encoded data removed]",
      "text/plain": [
       "<Figure size 432x288 with 1 Axes>"
      ]
     },
     "metadata": {
      "needs_background": "light"
     },
     "output_type": "display_data"
    }
   ],
   "source": [
    "xs = bigdf['q']\n",
    "ys = bigdf['big_score_minmax']\n",
    "plt.scatter(xs, ys)\n",
    "plt.title('score_minmax both datasets')\n",
    "plt.xlabel('q')\n",
    "plt.ylabel('score_minmax')\n",
    "plt.show()"
   ]
  },
  {
   "cell_type": "code",
   "execution_count": 192,
   "id": "fc00f130",
   "metadata": {},
   "outputs": [
    {
     "name": "stdout",
     "output_type": "stream",
     "text": [
      "        5         4         3         2\n",
      "-23.97 x + 62.34 x - 55.52 x + 17.45 x + 0.4062 x - 0.02204\n"
     ]
    }
   ],
   "source": [
    "#fit 5th degree polynom\n",
    "xs = bigdf['q']\n",
    "ys = bigdf['big_score_minmax']\n",
    "poly_fit = np.poly1d(np.polyfit(xs,ys, 5))\n",
    "print(poly_fit)"
   ]
  },
  {
   "cell_type": "code",
   "execution_count": null,
   "id": "65ef3485",
   "metadata": {},
   "outputs": [],
   "source": []
  }
 ],
 "metadata": {
  "kernelspec": {
   "display_name": "Python 3 (ipykernel)",
   "language": "python",
   "name": "python3"
  },
  "language_info": {
   "codemirror_mode": {
    "name": "ipython",
    "version": 3
   },
   "file_extension": ".py",
   "mimetype": "text/x-python",
   "name": "python",
   "nbconvert_exporter": "python",
   "pygments_lexer": "ipython3",
   "version": "3.7.4"
  }
 },
 "nbformat": 4,
 "nbformat_minor": 5
}
